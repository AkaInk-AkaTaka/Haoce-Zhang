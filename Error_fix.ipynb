{
 "cells": [
  {
   "cell_type": "code",
   "execution_count": 1,
   "id": "925683ab",
   "metadata": {},
   "outputs": [],
   "source": [
    "#Chatbot session:\n",
    "#https://chatgpt.com/share/6c258ebb-87d9-4ed1-8a97-0194a06c71dc"
   ]
  },
  {
   "cell_type": "code",
   "execution_count": 2,
   "id": "54dd612f",
   "metadata": {},
   "outputs": [],
   "source": [
    "#A"
   ]
  },
  {
   "cell_type": "code",
   "execution_count": 3,
   "id": "c20ea628",
   "metadata": {},
   "outputs": [],
   "source": [
    "import pandas as pd#This line is added later"
   ]
  },
  {
   "cell_type": "code",
   "execution_count": 4,
   "id": "6e810e7a",
   "metadata": {
    "scrolled": true
   },
   "outputs": [],
   "source": [
    "url = \"https://raw.githubusercontent.com/mwaskom/seaborn-data/master/titanic.csv\"\n",
    "df = pd.read_csv(url)\n",
    "#NameError: name 'pd' is not defined"
   ]
  },
  {
   "cell_type": "code",
   "execution_count": 5,
   "id": "06921035",
   "metadata": {},
   "outputs": [],
   "source": [
    "#In this case, both googling and asking Chatbot work, but Chatbot is faster, and provide me code.\n",
    "#import pandas as pd"
   ]
  },
  {
   "cell_type": "code",
   "execution_count": 6,
   "id": "bb465a69",
   "metadata": {},
   "outputs": [
    {
     "data": {
      "text/plain": [
       "'________________________________________________________________________'"
      ]
     },
     "execution_count": 6,
     "metadata": {},
     "output_type": "execute_result"
    }
   ],
   "source": [
    "'________________________________________________________________________'"
   ]
  },
  {
   "cell_type": "code",
   "execution_count": 7,
   "id": "2015e461",
   "metadata": {},
   "outputs": [],
   "source": [
    "#B"
   ]
  },
  {
   "cell_type": "code",
   "execution_count": 8,
   "id": "91552f2e",
   "metadata": {},
   "outputs": [],
   "source": [
    "url = \"titanics.csv\"\n",
    "url = \"https://raw.githubusercontent.com/mwaskom/seaborn-data/master/titanic.csv\"#This line is added later\n",
    "df = pd.read_csv(url)\n",
    "#FileNotFoundError: [Errno 2] No such file or directory: 'titanics.csv'"
   ]
  },
  {
   "cell_type": "code",
   "execution_count": 9,
   "id": "28bc92b6",
   "metadata": {},
   "outputs": [],
   "source": [
    "#In this case, both google and Chatgpt give me multiable possible reasons and one of them is correct answer\n",
    "#But again, Chatbot is faster"
   ]
  },
  {
   "cell_type": "code",
   "execution_count": 10,
   "id": "97c1ba96",
   "metadata": {},
   "outputs": [],
   "source": [
    "#C"
   ]
  },
  {
   "cell_type": "code",
   "execution_count": 11,
   "id": "498bb967",
   "metadata": {},
   "outputs": [
    {
     "data": {
      "text/html": [
       "<div>\n",
       "<style scoped>\n",
       "    .dataframe tbody tr th:only-of-type {\n",
       "        vertical-align: middle;\n",
       "    }\n",
       "\n",
       "    .dataframe tbody tr th {\n",
       "        vertical-align: top;\n",
       "    }\n",
       "\n",
       "    .dataframe thead th {\n",
       "        text-align: right;\n",
       "    }\n",
       "</style>\n",
       "<table border=\"1\" class=\"dataframe\">\n",
       "  <thead>\n",
       "    <tr style=\"text-align: right;\">\n",
       "      <th></th>\n",
       "      <th>count</th>\n",
       "      <th>mean</th>\n",
       "      <th>std</th>\n",
       "      <th>min</th>\n",
       "      <th>25%</th>\n",
       "      <th>50%</th>\n",
       "      <th>75%</th>\n",
       "      <th>max</th>\n",
       "    </tr>\n",
       "    <tr>\n",
       "      <th>alive</th>\n",
       "      <th></th>\n",
       "      <th></th>\n",
       "      <th></th>\n",
       "      <th></th>\n",
       "      <th></th>\n",
       "      <th></th>\n",
       "      <th></th>\n",
       "      <th></th>\n",
       "    </tr>\n",
       "  </thead>\n",
       "  <tbody>\n",
       "    <tr>\n",
       "      <th>no</th>\n",
       "      <td>549.0</td>\n",
       "      <td>22.117887</td>\n",
       "      <td>31.388207</td>\n",
       "      <td>0.0</td>\n",
       "      <td>7.8542</td>\n",
       "      <td>10.5</td>\n",
       "      <td>26.0</td>\n",
       "      <td>263.0000</td>\n",
       "    </tr>\n",
       "    <tr>\n",
       "      <th>yes</th>\n",
       "      <td>342.0</td>\n",
       "      <td>48.395408</td>\n",
       "      <td>66.596998</td>\n",
       "      <td>0.0</td>\n",
       "      <td>12.4750</td>\n",
       "      <td>26.0</td>\n",
       "      <td>57.0</td>\n",
       "      <td>512.3292</td>\n",
       "    </tr>\n",
       "  </tbody>\n",
       "</table>\n",
       "</div>"
      ],
      "text/plain": [
       "       count       mean        std  min      25%   50%   75%       max\n",
       "alive                                                                 \n",
       "no     549.0  22.117887  31.388207  0.0   7.8542  10.5  26.0  263.0000\n",
       "yes    342.0  48.395408  66.596998  0.0  12.4750  26.0  57.0  512.3292"
      ]
     },
     "execution_count": 11,
     "metadata": {},
     "output_type": "execute_result"
    }
   ],
   "source": [
    "#DF.groupby(\"col1\")[\"col2\"].describe()\n",
    "df.groupby(\"alive\")[\"fare\"].describe()#This line is fixed later\n",
    "#NameError: name 'DF' is not defined"
   ]
  },
  {
   "cell_type": "code",
   "execution_count": 12,
   "id": "fd7648d8",
   "metadata": {},
   "outputs": [],
   "source": [
    "#In this case, Chatgpt finds the problem immediately that I use uppercase <DF> immediately and advice me to use lowercase <df>\n",
    "#However, because a searching engine does not differentiate uppercase&lowercase, I cannot find an answer."
   ]
  },
  {
   "cell_type": "code",
   "execution_count": 13,
   "id": "52443024",
   "metadata": {},
   "outputs": [
    {
     "data": {
      "text/plain": [
       "'________________________________________________________________________'"
      ]
     },
     "execution_count": 13,
     "metadata": {},
     "output_type": "execute_result"
    }
   ],
   "source": [
    "'________________________________________________________________________'"
   ]
  },
  {
   "cell_type": "code",
   "execution_count": 14,
   "id": "2a8efe62",
   "metadata": {},
   "outputs": [],
   "source": [
    "#D"
   ]
  },
  {
   "cell_type": "code",
   "execution_count": 15,
   "id": "8c86c729",
   "metadata": {},
   "outputs": [],
   "source": [
    "#df = pd.read_csv(url\n",
    "df = pd.read_csv(url)#This line is fixed later.\n",
    "#SyntaxError: incomplete input"
   ]
  },
  {
   "cell_type": "code",
   "execution_count": 16,
   "id": "6bbc9d28",
   "metadata": {},
   "outputs": [],
   "source": [
    "#In this case, we can get the answer from both google and Chatgpt but Chatgpt is more clearly and faster and I can just copypaste the code."
   ]
  },
  {
   "cell_type": "code",
   "execution_count": 17,
   "id": "307e6ce8",
   "metadata": {},
   "outputs": [
    {
     "data": {
      "text/plain": [
       "'________________________________________________________________________'"
      ]
     },
     "execution_count": 17,
     "metadata": {},
     "output_type": "execute_result"
    }
   ],
   "source": [
    "'________________________________________________________________________'"
   ]
  },
  {
   "cell_type": "code",
   "execution_count": 18,
   "id": "366b6e71",
   "metadata": {},
   "outputs": [],
   "source": [
    "#E"
   ]
  },
  {
   "cell_type": "code",
   "execution_count": 19,
   "id": "7d9fe243",
   "metadata": {},
   "outputs": [
    {
     "data": {
      "text/html": [
       "<div>\n",
       "<style scoped>\n",
       "    .dataframe tbody tr th:only-of-type {\n",
       "        vertical-align: middle;\n",
       "    }\n",
       "\n",
       "    .dataframe tbody tr th {\n",
       "        vertical-align: top;\n",
       "    }\n",
       "\n",
       "    .dataframe thead th {\n",
       "        text-align: right;\n",
       "    }\n",
       "</style>\n",
       "<table border=\"1\" class=\"dataframe\">\n",
       "  <thead>\n",
       "    <tr style=\"text-align: right;\">\n",
       "      <th></th>\n",
       "      <th>count</th>\n",
       "      <th>mean</th>\n",
       "      <th>std</th>\n",
       "      <th>min</th>\n",
       "      <th>25%</th>\n",
       "      <th>50%</th>\n",
       "      <th>75%</th>\n",
       "      <th>max</th>\n",
       "    </tr>\n",
       "    <tr>\n",
       "      <th>alive</th>\n",
       "      <th></th>\n",
       "      <th></th>\n",
       "      <th></th>\n",
       "      <th></th>\n",
       "      <th></th>\n",
       "      <th></th>\n",
       "      <th></th>\n",
       "      <th></th>\n",
       "    </tr>\n",
       "  </thead>\n",
       "  <tbody>\n",
       "    <tr>\n",
       "      <th>no</th>\n",
       "      <td>549.0</td>\n",
       "      <td>22.117887</td>\n",
       "      <td>31.388207</td>\n",
       "      <td>0.0</td>\n",
       "      <td>7.8542</td>\n",
       "      <td>10.5</td>\n",
       "      <td>26.0</td>\n",
       "      <td>263.0000</td>\n",
       "    </tr>\n",
       "    <tr>\n",
       "      <th>yes</th>\n",
       "      <td>342.0</td>\n",
       "      <td>48.395408</td>\n",
       "      <td>66.596998</td>\n",
       "      <td>0.0</td>\n",
       "      <td>12.4750</td>\n",
       "      <td>26.0</td>\n",
       "      <td>57.0</td>\n",
       "      <td>512.3292</td>\n",
       "    </tr>\n",
       "  </tbody>\n",
       "</table>\n",
       "</div>"
      ],
      "text/plain": [
       "       count       mean        std  min      25%   50%   75%       max\n",
       "alive                                                                 \n",
       "no     549.0  22.117887  31.388207  0.0   7.8542  10.5  26.0  263.0000\n",
       "yes    342.0  48.395408  66.596998  0.0  12.4750  26.0  57.0  512.3292"
      ]
     },
     "execution_count": 19,
     "metadata": {},
     "output_type": "execute_result"
    }
   ],
   "source": [
    "#df.groupby(\"alive\")[\"fare\"].describle()\n",
    "df.groupby(\"alive\")[\"fare\"].describe()#This line is fixed later.\n",
    "#AttributeError: 'SeriesGroupBy' object has no attribute 'describle'"
   ]
  },
  {
   "cell_type": "code",
   "execution_count": 20,
   "id": "079ca24e",
   "metadata": {},
   "outputs": [],
   "source": [
    "#In the case of typo, Chatbot can immediately find and fix it. But by googling, I cannot even find a result!"
   ]
  },
  {
   "cell_type": "code",
   "execution_count": 21,
   "id": "f57b7f79",
   "metadata": {},
   "outputs": [
    {
     "data": {
      "text/plain": [
       "'________________________________________________________________________'"
      ]
     },
     "execution_count": 21,
     "metadata": {},
     "output_type": "execute_result"
    }
   ],
   "source": [
    "'________________________________________________________________________'"
   ]
  },
  {
   "cell_type": "code",
   "execution_count": 22,
   "id": "43d90772",
   "metadata": {},
   "outputs": [],
   "source": [
    "#F"
   ]
  },
  {
   "cell_type": "code",
   "execution_count": 23,
   "id": "7a2e4cd0",
   "metadata": {},
   "outputs": [
    {
     "data": {
      "text/html": [
       "<div>\n",
       "<style scoped>\n",
       "    .dataframe tbody tr th:only-of-type {\n",
       "        vertical-align: middle;\n",
       "    }\n",
       "\n",
       "    .dataframe tbody tr th {\n",
       "        vertical-align: top;\n",
       "    }\n",
       "\n",
       "    .dataframe thead th {\n",
       "        text-align: right;\n",
       "    }\n",
       "</style>\n",
       "<table border=\"1\" class=\"dataframe\">\n",
       "  <thead>\n",
       "    <tr style=\"text-align: right;\">\n",
       "      <th></th>\n",
       "      <th>count</th>\n",
       "      <th>mean</th>\n",
       "      <th>std</th>\n",
       "      <th>min</th>\n",
       "      <th>25%</th>\n",
       "      <th>50%</th>\n",
       "      <th>75%</th>\n",
       "      <th>max</th>\n",
       "    </tr>\n",
       "    <tr>\n",
       "      <th>sex</th>\n",
       "      <th></th>\n",
       "      <th></th>\n",
       "      <th></th>\n",
       "      <th></th>\n",
       "      <th></th>\n",
       "      <th></th>\n",
       "      <th></th>\n",
       "      <th></th>\n",
       "    </tr>\n",
       "  </thead>\n",
       "  <tbody>\n",
       "    <tr>\n",
       "      <th>female</th>\n",
       "      <td>261.0</td>\n",
       "      <td>27.915709</td>\n",
       "      <td>14.110146</td>\n",
       "      <td>0.75</td>\n",
       "      <td>18.0</td>\n",
       "      <td>27.0</td>\n",
       "      <td>37.0</td>\n",
       "      <td>63.0</td>\n",
       "    </tr>\n",
       "    <tr>\n",
       "      <th>male</th>\n",
       "      <td>453.0</td>\n",
       "      <td>30.726645</td>\n",
       "      <td>14.678201</td>\n",
       "      <td>0.42</td>\n",
       "      <td>21.0</td>\n",
       "      <td>29.0</td>\n",
       "      <td>39.0</td>\n",
       "      <td>80.0</td>\n",
       "    </tr>\n",
       "  </tbody>\n",
       "</table>\n",
       "</div>"
      ],
      "text/plain": [
       "        count       mean        std   min   25%   50%   75%   max\n",
       "sex                                                              \n",
       "female  261.0  27.915709  14.110146  0.75  18.0  27.0  37.0  63.0\n",
       "male    453.0  30.726645  14.678201  0.42  21.0  29.0  39.0  80.0"
      ]
     },
     "execution_count": 23,
     "metadata": {},
     "output_type": "execute_result"
    }
   ],
   "source": [
    "#df.groupby(\"Sex\")[\"age\"].describe()\n",
    "#df.groupby(\"sex\")[\"Age\"].describe()\n",
    "df.groupby(\"sex\")[\"age\"].describe()#This line is fixed later.\n",
    "#KeyError: 'Sex'\n",
    "#KeyError: 'Column not found: Age'"
   ]
  },
  {
   "cell_type": "code",
   "execution_count": 24,
   "id": "90d83f61",
   "metadata": {},
   "outputs": [],
   "source": [
    "#In this case, similarly, both google and Chatgpt works but Chatgpt is faster. \n",
    "#I must browse one by one in google to find an answer but Chatgpt can give me answer at once."
   ]
  },
  {
   "cell_type": "code",
   "execution_count": 25,
   "id": "2f9a1210",
   "metadata": {},
   "outputs": [
    {
     "data": {
      "text/plain": [
       "'________________________________________________________________________'"
      ]
     },
     "execution_count": 25,
     "metadata": {},
     "output_type": "execute_result"
    }
   ],
   "source": [
    "'________________________________________________________________________'"
   ]
  },
  {
   "cell_type": "code",
   "execution_count": 26,
   "id": "1480e864",
   "metadata": {},
   "outputs": [],
   "source": [
    "#G"
   ]
  },
  {
   "cell_type": "code",
   "execution_count": 27,
   "id": "c6eb6479",
   "metadata": {},
   "outputs": [
    {
     "data": {
      "text/html": [
       "<div>\n",
       "<style scoped>\n",
       "    .dataframe tbody tr th:only-of-type {\n",
       "        vertical-align: middle;\n",
       "    }\n",
       "\n",
       "    .dataframe tbody tr th {\n",
       "        vertical-align: top;\n",
       "    }\n",
       "\n",
       "    .dataframe thead th {\n",
       "        text-align: right;\n",
       "    }\n",
       "</style>\n",
       "<table border=\"1\" class=\"dataframe\">\n",
       "  <thead>\n",
       "    <tr style=\"text-align: right;\">\n",
       "      <th></th>\n",
       "      <th>count</th>\n",
       "      <th>mean</th>\n",
       "      <th>std</th>\n",
       "      <th>min</th>\n",
       "      <th>25%</th>\n",
       "      <th>50%</th>\n",
       "      <th>75%</th>\n",
       "      <th>max</th>\n",
       "    </tr>\n",
       "    <tr>\n",
       "      <th>sex</th>\n",
       "      <th></th>\n",
       "      <th></th>\n",
       "      <th></th>\n",
       "      <th></th>\n",
       "      <th></th>\n",
       "      <th></th>\n",
       "      <th></th>\n",
       "      <th></th>\n",
       "    </tr>\n",
       "  </thead>\n",
       "  <tbody>\n",
       "    <tr>\n",
       "      <th>female</th>\n",
       "      <td>261.0</td>\n",
       "      <td>27.915709</td>\n",
       "      <td>14.110146</td>\n",
       "      <td>0.75</td>\n",
       "      <td>18.0</td>\n",
       "      <td>27.0</td>\n",
       "      <td>37.0</td>\n",
       "      <td>63.0</td>\n",
       "    </tr>\n",
       "    <tr>\n",
       "      <th>male</th>\n",
       "      <td>453.0</td>\n",
       "      <td>30.726645</td>\n",
       "      <td>14.678201</td>\n",
       "      <td>0.42</td>\n",
       "      <td>21.0</td>\n",
       "      <td>29.0</td>\n",
       "      <td>39.0</td>\n",
       "      <td>80.0</td>\n",
       "    </tr>\n",
       "  </tbody>\n",
       "</table>\n",
       "</div>"
      ],
      "text/plain": [
       "        count       mean        std   min   25%   50%   75%   max\n",
       "sex                                                              \n",
       "female  261.0  27.915709  14.110146  0.75  18.0  27.0  37.0  63.0\n",
       "male    453.0  30.726645  14.678201  0.42  21.0  29.0  39.0  80.0"
      ]
     },
     "execution_count": 27,
     "metadata": {},
     "output_type": "execute_result"
    }
   ],
   "source": [
    "#df.groupby(sex)[\"age\"].describe()\n",
    "#df.groupby(\"sex\")[age].describe()\n",
    "df.groupby(\"sex\")[\"age\"].describe()\n",
    "#NameError: name 'sex' is not defined\n",
    "#NameError: name 'age' is not defined"
   ]
  },
  {
   "cell_type": "code",
   "execution_count": 28,
   "id": "df0a1dfb",
   "metadata": {},
   "outputs": [],
   "source": [
    "#In this case, Chatgpt also works better. I spend a long time on google till I find a solution."
   ]
  },
  {
   "cell_type": "code",
   "execution_count": 29,
   "id": "2e0be015",
   "metadata": {},
   "outputs": [
    {
     "data": {
      "text/plain": [
       "'________________________________________________________________________'"
      ]
     },
     "execution_count": 29,
     "metadata": {},
     "output_type": "execute_result"
    }
   ],
   "source": [
    "'________________________________________________________________________'"
   ]
  },
  {
   "cell_type": "code",
   "execution_count": 30,
   "id": "b7421ea8",
   "metadata": {},
   "outputs": [
    {
     "data": {
      "text/plain": [
       "'In summary:\\nChatgpt shows better ability and faster speed to sovle errors in my code than google\\nI think there are some reasons:\\n\\n1.My prompt engineering works\\n2.My questions are all focus on errors in <pandas>\\n3.On google, problems are questioned and answered by other people, their Q&As are usually much more complexed.\\n\\nSo, Chatbots are better than google when solving simple questions'"
      ]
     },
     "execution_count": 30,
     "metadata": {},
     "output_type": "execute_result"
    }
   ],
   "source": [
    "'''In summary:\n",
    "Chatgpt shows better ability and faster speed to sovle errors in my code than google\n",
    "I think there are some reasons:\n",
    "\n",
    "1.My prompt engineering works\n",
    "2.My questions are all focus on errors in <pandas>\n",
    "3.On google, problems are questioned and answered by other people, their Q&As are usually much more complexed.\n",
    "\n",
    "So, Chatbots are better than google when solving simple questions''' "
   ]
  }
 ],
 "metadata": {
  "kernelspec": {
   "display_name": "Python 3 (ipykernel)",
   "language": "python",
   "name": "python3"
  },
  "language_info": {
   "codemirror_mode": {
    "name": "ipython",
    "version": 3
   },
   "file_extension": ".py",
   "mimetype": "text/x-python",
   "name": "python",
   "nbconvert_exporter": "python",
   "pygments_lexer": "ipython3",
   "version": "3.11.6"
  }
 },
 "nbformat": 4,
 "nbformat_minor": 5
}
