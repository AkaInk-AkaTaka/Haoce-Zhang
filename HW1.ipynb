{
 "cells": [
  {
   "cell_type": "code",
   "execution_count": 1,
   "id": "efcb5e13",
   "metadata": {},
   "outputs": [],
   "source": [
    "#Q1:"
   ]
  },
  {
   "cell_type": "code",
   "execution_count": 2,
   "id": "dd14d845",
   "metadata": {
    "scrolled": true
   },
   "outputs": [],
   "source": [
    "#About Dataset I choose:\n",
    "#Since we have not got an available dataset in tuoturial, I copy paste the code in HW1"
   ]
  },
  {
   "cell_type": "code",
   "execution_count": 3,
   "id": "72385fe9",
   "metadata": {},
   "outputs": [
    {
     "data": {
      "text/plain": [
       "row_n           0\n",
       "id              1\n",
       "name            0\n",
       "gender          0\n",
       "species         0\n",
       "birthday        0\n",
       "personality     0\n",
       "song           11\n",
       "phrase          0\n",
       "full_id         0\n",
       "url             0\n",
       "dtype: int64"
      ]
     },
     "execution_count": 3,
     "metadata": {},
     "output_type": "execute_result"
    }
   ],
   "source": [
    "import pandas as pd\n",
    "url = \"https://raw.githubusercontent.com/rfordatascience/tidytuesday/master/data/2020/2020-05-05/villagers.csv\"\n",
    "df = pd.read_csv(url)\n",
    "df.isna().sum()"
   ]
  },
  {
   "cell_type": "code",
   "execution_count": 4,
   "id": "6cffa581",
   "metadata": {},
   "outputs": [
    {
     "data": {
      "text/plain": [
       "'________________________________________________________________________'"
      ]
     },
     "execution_count": 4,
     "metadata": {},
     "output_type": "execute_result"
    }
   ],
   "source": [
    "'________________________________________________________________________'"
   ]
  },
  {
   "cell_type": "code",
   "execution_count": 5,
   "id": "479fb1cc",
   "metadata": {},
   "outputs": [],
   "source": [
    "#Q2:"
   ]
  },
  {
   "cell_type": "code",
   "execution_count": 6,
   "id": "1a499657",
   "metadata": {},
   "outputs": [],
   "source": [
    "#Interaction with AI:\n",
    "#https://chatgpt.com/share/245c196d-0b9b-468f-9154-69fd4f5be7be\n",
    "#Chat seems to not be able to read the URL directly, but it provided me codes."
   ]
  },
  {
   "cell_type": "code",
   "execution_count": 7,
   "id": "c08daa74",
   "metadata": {},
   "outputs": [
    {
     "data": {
      "text/plain": [
       "(391, 11)"
      ]
     },
     "execution_count": 7,
     "metadata": {},
     "output_type": "execute_result"
    }
   ],
   "source": [
    "villagers_data = pd.read_csv(url)\n",
    "\n",
    "# Get the number of rows and columns in the dataset\n",
    "rows, columns = villagers_data.shape\n",
    "rows, columns"
   ]
  },
  {
   "cell_type": "code",
   "execution_count": 8,
   "id": "323212c4",
   "metadata": {},
   "outputs": [],
   "source": [
    "#According to Chatgpt, and in my summary:\n",
    "#Observations means the objects we observe and research on (Rows, individual villagers)\n",
    "#Variables means the different features of observations we focus on (Columns, characteristics of each villager)"
   ]
  },
  {
   "cell_type": "code",
   "execution_count": 9,
   "id": "00c0cd8f",
   "metadata": {},
   "outputs": [
    {
     "data": {
      "text/plain": [
       "'________________________________________________________________________'"
      ]
     },
     "execution_count": 9,
     "metadata": {},
     "output_type": "execute_result"
    }
   ],
   "source": [
    "'________________________________________________________________________'"
   ]
  },
  {
   "cell_type": "code",
   "execution_count": 10,
   "id": "ffa7e82c",
   "metadata": {},
   "outputs": [],
   "source": [
    "#Q3"
   ]
  },
  {
   "cell_type": "code",
   "execution_count": 11,
   "id": "593df65e",
   "metadata": {},
   "outputs": [],
   "source": [
    "#After asking Chatgpt(we can see it in the link above) , we get:"
   ]
  },
  {
   "cell_type": "code",
   "execution_count": 12,
   "id": "0ae7818e",
   "metadata": {},
   "outputs": [
    {
     "name": "stdout",
     "output_type": "stream",
     "text": [
      "<class 'pandas.core.frame.DataFrame'>\n",
      "RangeIndex: 391 entries, 0 to 390\n",
      "Data columns (total 11 columns):\n",
      " #   Column       Non-Null Count  Dtype \n",
      "---  ------       --------------  ----- \n",
      " 0   row_n        391 non-null    int64 \n",
      " 1   id           390 non-null    object\n",
      " 2   name         391 non-null    object\n",
      " 3   gender       391 non-null    object\n",
      " 4   species      391 non-null    object\n",
      " 5   birthday     391 non-null    object\n",
      " 6   personality  391 non-null    object\n",
      " 7   song         380 non-null    object\n",
      " 8   phrase       391 non-null    object\n",
      " 9   full_id      391 non-null    object\n",
      " 10  url          391 non-null    object\n",
      "dtypes: int64(1), object(10)\n",
      "memory usage: 33.7+ KB\n",
      "None\n"
     ]
    }
   ],
   "source": [
    "print(villagers_data.info())"
   ]
  },
  {
   "cell_type": "code",
   "execution_count": 13,
   "id": "80949e5f",
   "metadata": {},
   "outputs": [
    {
     "name": "stdout",
     "output_type": "stream",
     "text": [
      "            row_n\n",
      "count  391.000000\n",
      "mean   239.902813\n",
      "std    140.702672\n",
      "min      2.000000\n",
      "25%    117.500000\n",
      "50%    240.000000\n",
      "75%    363.500000\n",
      "max    483.000000\n"
     ]
    }
   ],
   "source": [
    "print(villagers_data.describe())"
   ]
  },
  {
   "cell_type": "code",
   "execution_count": 14,
   "id": "f992008b",
   "metadata": {},
   "outputs": [
    {
     "name": "stdout",
     "output_type": "stream",
     "text": [
      "             row_n       id     name gender species birthday personality  \\\n",
      "count   391.000000      390      391    391     391      391         391   \n",
      "unique         NaN      390      391      2      35      361           8   \n",
      "top            NaN  admiral  Admiral   male     cat     1-27        lazy   \n",
      "freq           NaN        1        1    204      23        2          60   \n",
      "mean    239.902813      NaN      NaN    NaN     NaN      NaN         NaN   \n",
      "std     140.702672      NaN      NaN    NaN     NaN      NaN         NaN   \n",
      "min       2.000000      NaN      NaN    NaN     NaN      NaN         NaN   \n",
      "25%     117.500000      NaN      NaN    NaN     NaN      NaN         NaN   \n",
      "50%     240.000000      NaN      NaN    NaN     NaN      NaN         NaN   \n",
      "75%     363.500000      NaN      NaN    NaN     NaN      NaN         NaN   \n",
      "max     483.000000      NaN      NaN    NaN     NaN      NaN         NaN   \n",
      "\n",
      "                song   phrase           full_id  \\\n",
      "count            380      391               391   \n",
      "unique            92      388               391   \n",
      "top     K.K. Country  wee one  villager-admiral   \n",
      "freq              10        2                 1   \n",
      "mean             NaN      NaN               NaN   \n",
      "std              NaN      NaN               NaN   \n",
      "min              NaN      NaN               NaN   \n",
      "25%              NaN      NaN               NaN   \n",
      "50%              NaN      NaN               NaN   \n",
      "75%              NaN      NaN               NaN   \n",
      "max              NaN      NaN               NaN   \n",
      "\n",
      "                                                      url  \n",
      "count                                                 391  \n",
      "unique                                                391  \n",
      "top     https://villagerdb.com/images/villagers/thumb/...  \n",
      "freq                                                    1  \n",
      "mean                                                  NaN  \n",
      "std                                                   NaN  \n",
      "min                                                   NaN  \n",
      "25%                                                   NaN  \n",
      "50%                                                   NaN  \n",
      "75%                                                   NaN  \n",
      "max                                                   NaN  \n"
     ]
    }
   ],
   "source": [
    "print(villagers_data.describe(include='all'))"
   ]
  },
  {
   "cell_type": "code",
   "execution_count": 15,
   "id": "ec7ccffe",
   "metadata": {},
   "outputs": [
    {
     "name": "stdout",
     "output_type": "stream",
     "text": [
      "   row_n       id     name  gender    species birthday personality  \\\n",
      "0      2  admiral  Admiral    male       bird     1-27      cranky   \n",
      "1      3  agent-s  Agent S  female   squirrel      7-2       peppy   \n",
      "2      4    agnes    Agnes  female        pig     4-21        uchi   \n",
      "3      6       al       Al    male    gorilla    10-18        lazy   \n",
      "4      7  alfonso  Alfonso    male  alligator      6-9        lazy   \n",
      "\n",
      "          song    phrase           full_id  \\\n",
      "0   Steep Hill   aye aye  villager-admiral   \n",
      "1      DJ K.K.  sidekick  villager-agent-s   \n",
      "2   K.K. House   snuffle    villager-agnes   \n",
      "3   Steep Hill   Ayyeeee       villager-al   \n",
      "4  Forest Life  it'sa me  villager-alfonso   \n",
      "\n",
      "                                                 url  \n",
      "0  https://villagerdb.com/images/villagers/thumb/...  \n",
      "1  https://villagerdb.com/images/villagers/thumb/...  \n",
      "2  https://villagerdb.com/images/villagers/thumb/...  \n",
      "3  https://villagerdb.com/images/villagers/thumb/...  \n",
      "4  https://villagerdb.com/images/villagers/thumb/...  \n"
     ]
    }
   ],
   "source": [
    "print(villagers_data.head())"
   ]
  },
  {
   "cell_type": "code",
   "execution_count": 16,
   "id": "0b6b2174",
   "metadata": {},
   "outputs": [
    {
     "name": "stdout",
     "output_type": "stream",
     "text": [
      "row_n          391\n",
      "id             390\n",
      "name           391\n",
      "gender           2\n",
      "species         35\n",
      "birthday       361\n",
      "personality      8\n",
      "song            92\n",
      "phrase         388\n",
      "full_id        391\n",
      "url            391\n",
      "dtype: int64\n"
     ]
    }
   ],
   "source": [
    "print(villagers_data.nunique())"
   ]
  },
  {
   "cell_type": "code",
   "execution_count": 17,
   "id": "33f7cdec",
   "metadata": {},
   "outputs": [
    {
     "name": "stdout",
     "output_type": "stream",
     "text": [
      "personality\n",
      "lazy      60\n",
      "normal    59\n",
      "cranky    55\n",
      "snooty    55\n",
      "jock      55\n",
      "peppy     49\n",
      "smug      34\n",
      "uchi      24\n",
      "Name: count, dtype: int64\n"
     ]
    }
   ],
   "source": [
    "print(villagers_data['personality'].value_counts())"
   ]
  },
  {
   "cell_type": "code",
   "execution_count": 18,
   "id": "a5a4f7b7",
   "metadata": {},
   "outputs": [
    {
     "data": {
      "text/plain": [
       "'________________________________________________________________________'"
      ]
     },
     "execution_count": 18,
     "metadata": {},
     "output_type": "execute_result"
    }
   ],
   "source": [
    "'________________________________________________________________________'"
   ]
  },
  {
   "cell_type": "code",
   "execution_count": 19,
   "id": "acd6be4e",
   "metadata": {},
   "outputs": [],
   "source": [
    "#Q4"
   ]
  },
  {
   "cell_type": "code",
   "execution_count": 20,
   "id": "739f991a",
   "metadata": {},
   "outputs": [],
   "source": [
    "#Because the dataset I use has only a single numeric variable row_n without missing values, I turned to use another dataset"
   ]
  },
  {
   "cell_type": "code",
   "execution_count": 21,
   "id": "3cf38ec6",
   "metadata": {},
   "outputs": [
    {
     "name": "stdout",
     "output_type": "stream",
     "text": [
      "shape:\n",
      "(891, 15)\n",
      "describe:\n",
      "         survived      pclass         age       sibsp       parch        fare\n",
      "count  891.000000  891.000000  714.000000  891.000000  891.000000  891.000000\n",
      "mean     0.383838    2.308642   29.699118    0.523008    0.381594   32.204208\n",
      "std      0.486592    0.836071   14.526497    1.102743    0.806057   49.693429\n",
      "min      0.000000    1.000000    0.420000    0.000000    0.000000    0.000000\n",
      "25%      0.000000    2.000000   20.125000    0.000000    0.000000    7.910400\n",
      "50%      0.000000    3.000000   28.000000    0.000000    0.000000   14.454200\n",
      "75%      1.000000    3.000000   38.000000    1.000000    0.000000   31.000000\n",
      "max      1.000000    3.000000   80.000000    8.000000    6.000000  512.329200\n"
     ]
    }
   ],
   "source": [
    "new_url = \"https://raw.githubusercontent.com/mwaskom/seaborn-data/master/titanic.csv\"\n",
    "titanic_data = pd.read_csv(new_url)\n",
    "print('shape:')\n",
    "print(titanic_data.shape)\n",
    "print('describe:')\n",
    "print(titanic_data.describe())"
   ]
  },
  {
   "cell_type": "code",
   "execution_count": 22,
   "id": "eb2d6f29",
   "metadata": {},
   "outputs": [],
   "source": [
    "#After comparison, we find:\n",
    "#(a): There is supposed to be 15 columns but only 6 columns are shown in <titanic_data.describe()>\n",
    "#(b): In variable <age>, the count is only 714, which is supposed to be 891"
   ]
  },
  {
   "cell_type": "code",
   "execution_count": 23,
   "id": "6a439ec7",
   "metadata": {},
   "outputs": [],
   "source": [
    "#After asking Chatgpt, we get:\n",
    "#<df.shape> give you the total columns and rows, no matter non-numeric variables or missing data, However,\n",
    "#<df.describe()> only describe numeric variable (answer of (a)) , and ignore missing data (answer of (b))"
   ]
  },
  {
   "cell_type": "code",
   "execution_count": 24,
   "id": "b660f1b7",
   "metadata": {},
   "outputs": [
    {
     "data": {
      "text/plain": [
       "'________________________________________________________________________'"
      ]
     },
     "execution_count": 24,
     "metadata": {},
     "output_type": "execute_result"
    }
   ],
   "source": [
    "'________________________________________________________________________'"
   ]
  },
  {
   "cell_type": "code",
   "execution_count": 25,
   "id": "5f7ff7af",
   "metadata": {},
   "outputs": [],
   "source": [
    "#Q5"
   ]
  },
  {
   "cell_type": "code",
   "execution_count": 26,
   "id": "10ddf76c",
   "metadata": {},
   "outputs": [],
   "source": [
    "#According to Chatgpt, and in my summary:\n",
    "#An attribute just store an object of a fucntion\n",
    "#A method need to do calculate (or computering) using the argument in ()."
   ]
  },
  {
   "cell_type": "code",
   "execution_count": 27,
   "id": "b24fe8b2",
   "metadata": {},
   "outputs": [
    {
     "data": {
      "text/plain": [
       "'________________________________________________________________________'"
      ]
     },
     "execution_count": 27,
     "metadata": {},
     "output_type": "execute_result"
    }
   ],
   "source": [
    "'________________________________________________________________________'"
   ]
  },
  {
   "cell_type": "code",
   "execution_count": 28,
   "id": "105f90ad",
   "metadata": {},
   "outputs": [],
   "source": [
    "#Q6"
   ]
  },
  {
   "cell_type": "code",
   "execution_count": 29,
   "id": "571068fa",
   "metadata": {},
   "outputs": [],
   "source": [
    "#According to Chatgpt:\n",
    "#count: number of non-null values in the column\n",
    "#mean: the average value\n",
    "#std: standard deviation, a measure of spread around the mean\n",
    "#min: the smallest value\n",
    "#25%: first quartile (25th percentile)\n",
    "#50%: median (50th percentile)\n",
    "#75%: third quartile (75th percentile)\n",
    "#max: the largest value"
   ]
  },
  {
   "cell_type": "code",
   "execution_count": 30,
   "id": "df4eed3f",
   "metadata": {},
   "outputs": [
    {
     "data": {
      "text/plain": [
       "'________________________________________________________________________'"
      ]
     },
     "execution_count": 30,
     "metadata": {},
     "output_type": "execute_result"
    }
   ],
   "source": [
    "'________________________________________________________________________'"
   ]
  },
  {
   "cell_type": "code",
   "execution_count": 31,
   "id": "a972b77c",
   "metadata": {},
   "outputs": [],
   "source": [
    "#Q7"
   ]
  },
  {
   "cell_type": "code",
   "execution_count": 32,
   "id": "90abb397",
   "metadata": {},
   "outputs": [],
   "source": [
    "#New ChatBot session:\n",
    "#https://chatgpt.com/share/5e62e64f-8847-46f0-afe5-31e0af7646b7"
   ]
  },
  {
   "cell_type": "code",
   "execution_count": 33,
   "id": "b2a1d9c8",
   "metadata": {},
   "outputs": [],
   "source": [
    "#According to Chatgpt, and in my summary:\n",
    "#df.dropna() is used to drop Rows with any Missing Data\n",
    "#del df['col'] is used to Drop a Specific Column"
   ]
  },
  {
   "cell_type": "code",
   "execution_count": 34,
   "id": "b5e490ab",
   "metadata": {},
   "outputs": [],
   "source": [
    "#1.\n",
    "#By using df.dropna(), we can delete the observation with missing data and keep the dataset clean\n",
    "#It is better when there is a few missing values and we are interset in analyzing complete records."
   ]
  },
  {
   "cell_type": "code",
   "execution_count": 35,
   "id": "4f6f5cad",
   "metadata": {},
   "outputs": [],
   "source": [
    "#2\n",
    "#By using del df['col'], we can delete a whole variable and keep the dataset clean\n",
    "#It is better when a variable have too much missing data that we can delete it."
   ]
  },
  {
   "cell_type": "code",
   "execution_count": 36,
   "id": "7a962198",
   "metadata": {},
   "outputs": [],
   "source": [
    "#3\n",
    "#Applying del df['col'] before using df.dropna() is important because:\n",
    "#Minimizing Data Loss: to avoid a column with many missing values that isn't necessary cause row deletions.\n",
    "#We can make an example"
   ]
  },
  {
   "cell_type": "code",
   "execution_count": 37,
   "id": "8c093ecd",
   "metadata": {},
   "outputs": [
    {
     "data": {
      "text/html": [
       "<div>\n",
       "<style scoped>\n",
       "    .dataframe tbody tr th:only-of-type {\n",
       "        vertical-align: middle;\n",
       "    }\n",
       "\n",
       "    .dataframe tbody tr th {\n",
       "        vertical-align: top;\n",
       "    }\n",
       "\n",
       "    .dataframe thead th {\n",
       "        text-align: right;\n",
       "    }\n",
       "</style>\n",
       "<table border=\"1\" class=\"dataframe\">\n",
       "  <thead>\n",
       "    <tr style=\"text-align: right;\">\n",
       "      <th></th>\n",
       "      <th>survived</th>\n",
       "      <th>pclass</th>\n",
       "      <th>sex</th>\n",
       "      <th>age</th>\n",
       "      <th>sibsp</th>\n",
       "      <th>parch</th>\n",
       "      <th>fare</th>\n",
       "      <th>embarked</th>\n",
       "      <th>class</th>\n",
       "      <th>who</th>\n",
       "      <th>adult_male</th>\n",
       "      <th>deck</th>\n",
       "      <th>embark_town</th>\n",
       "      <th>alive</th>\n",
       "      <th>alone</th>\n",
       "    </tr>\n",
       "  </thead>\n",
       "  <tbody>\n",
       "    <tr>\n",
       "      <th>1</th>\n",
       "      <td>1</td>\n",
       "      <td>1</td>\n",
       "      <td>female</td>\n",
       "      <td>38.0</td>\n",
       "      <td>1</td>\n",
       "      <td>0</td>\n",
       "      <td>71.2833</td>\n",
       "      <td>C</td>\n",
       "      <td>First</td>\n",
       "      <td>woman</td>\n",
       "      <td>False</td>\n",
       "      <td>C</td>\n",
       "      <td>Cherbourg</td>\n",
       "      <td>yes</td>\n",
       "      <td>False</td>\n",
       "    </tr>\n",
       "    <tr>\n",
       "      <th>3</th>\n",
       "      <td>1</td>\n",
       "      <td>1</td>\n",
       "      <td>female</td>\n",
       "      <td>35.0</td>\n",
       "      <td>1</td>\n",
       "      <td>0</td>\n",
       "      <td>53.1000</td>\n",
       "      <td>S</td>\n",
       "      <td>First</td>\n",
       "      <td>woman</td>\n",
       "      <td>False</td>\n",
       "      <td>C</td>\n",
       "      <td>Southampton</td>\n",
       "      <td>yes</td>\n",
       "      <td>False</td>\n",
       "    </tr>\n",
       "    <tr>\n",
       "      <th>6</th>\n",
       "      <td>0</td>\n",
       "      <td>1</td>\n",
       "      <td>male</td>\n",
       "      <td>54.0</td>\n",
       "      <td>0</td>\n",
       "      <td>0</td>\n",
       "      <td>51.8625</td>\n",
       "      <td>S</td>\n",
       "      <td>First</td>\n",
       "      <td>man</td>\n",
       "      <td>True</td>\n",
       "      <td>E</td>\n",
       "      <td>Southampton</td>\n",
       "      <td>no</td>\n",
       "      <td>True</td>\n",
       "    </tr>\n",
       "    <tr>\n",
       "      <th>10</th>\n",
       "      <td>1</td>\n",
       "      <td>3</td>\n",
       "      <td>female</td>\n",
       "      <td>4.0</td>\n",
       "      <td>1</td>\n",
       "      <td>1</td>\n",
       "      <td>16.7000</td>\n",
       "      <td>S</td>\n",
       "      <td>Third</td>\n",
       "      <td>child</td>\n",
       "      <td>False</td>\n",
       "      <td>G</td>\n",
       "      <td>Southampton</td>\n",
       "      <td>yes</td>\n",
       "      <td>False</td>\n",
       "    </tr>\n",
       "    <tr>\n",
       "      <th>11</th>\n",
       "      <td>1</td>\n",
       "      <td>1</td>\n",
       "      <td>female</td>\n",
       "      <td>58.0</td>\n",
       "      <td>0</td>\n",
       "      <td>0</td>\n",
       "      <td>26.5500</td>\n",
       "      <td>S</td>\n",
       "      <td>First</td>\n",
       "      <td>woman</td>\n",
       "      <td>False</td>\n",
       "      <td>C</td>\n",
       "      <td>Southampton</td>\n",
       "      <td>yes</td>\n",
       "      <td>True</td>\n",
       "    </tr>\n",
       "    <tr>\n",
       "      <th>...</th>\n",
       "      <td>...</td>\n",
       "      <td>...</td>\n",
       "      <td>...</td>\n",
       "      <td>...</td>\n",
       "      <td>...</td>\n",
       "      <td>...</td>\n",
       "      <td>...</td>\n",
       "      <td>...</td>\n",
       "      <td>...</td>\n",
       "      <td>...</td>\n",
       "      <td>...</td>\n",
       "      <td>...</td>\n",
       "      <td>...</td>\n",
       "      <td>...</td>\n",
       "      <td>...</td>\n",
       "    </tr>\n",
       "    <tr>\n",
       "      <th>871</th>\n",
       "      <td>1</td>\n",
       "      <td>1</td>\n",
       "      <td>female</td>\n",
       "      <td>47.0</td>\n",
       "      <td>1</td>\n",
       "      <td>1</td>\n",
       "      <td>52.5542</td>\n",
       "      <td>S</td>\n",
       "      <td>First</td>\n",
       "      <td>woman</td>\n",
       "      <td>False</td>\n",
       "      <td>D</td>\n",
       "      <td>Southampton</td>\n",
       "      <td>yes</td>\n",
       "      <td>False</td>\n",
       "    </tr>\n",
       "    <tr>\n",
       "      <th>872</th>\n",
       "      <td>0</td>\n",
       "      <td>1</td>\n",
       "      <td>male</td>\n",
       "      <td>33.0</td>\n",
       "      <td>0</td>\n",
       "      <td>0</td>\n",
       "      <td>5.0000</td>\n",
       "      <td>S</td>\n",
       "      <td>First</td>\n",
       "      <td>man</td>\n",
       "      <td>True</td>\n",
       "      <td>B</td>\n",
       "      <td>Southampton</td>\n",
       "      <td>no</td>\n",
       "      <td>True</td>\n",
       "    </tr>\n",
       "    <tr>\n",
       "      <th>879</th>\n",
       "      <td>1</td>\n",
       "      <td>1</td>\n",
       "      <td>female</td>\n",
       "      <td>56.0</td>\n",
       "      <td>0</td>\n",
       "      <td>1</td>\n",
       "      <td>83.1583</td>\n",
       "      <td>C</td>\n",
       "      <td>First</td>\n",
       "      <td>woman</td>\n",
       "      <td>False</td>\n",
       "      <td>C</td>\n",
       "      <td>Cherbourg</td>\n",
       "      <td>yes</td>\n",
       "      <td>False</td>\n",
       "    </tr>\n",
       "    <tr>\n",
       "      <th>887</th>\n",
       "      <td>1</td>\n",
       "      <td>1</td>\n",
       "      <td>female</td>\n",
       "      <td>19.0</td>\n",
       "      <td>0</td>\n",
       "      <td>0</td>\n",
       "      <td>30.0000</td>\n",
       "      <td>S</td>\n",
       "      <td>First</td>\n",
       "      <td>woman</td>\n",
       "      <td>False</td>\n",
       "      <td>B</td>\n",
       "      <td>Southampton</td>\n",
       "      <td>yes</td>\n",
       "      <td>True</td>\n",
       "    </tr>\n",
       "    <tr>\n",
       "      <th>889</th>\n",
       "      <td>1</td>\n",
       "      <td>1</td>\n",
       "      <td>male</td>\n",
       "      <td>26.0</td>\n",
       "      <td>0</td>\n",
       "      <td>0</td>\n",
       "      <td>30.0000</td>\n",
       "      <td>C</td>\n",
       "      <td>First</td>\n",
       "      <td>man</td>\n",
       "      <td>True</td>\n",
       "      <td>C</td>\n",
       "      <td>Cherbourg</td>\n",
       "      <td>yes</td>\n",
       "      <td>True</td>\n",
       "    </tr>\n",
       "  </tbody>\n",
       "</table>\n",
       "<p>182 rows × 15 columns</p>\n",
       "</div>"
      ],
      "text/plain": [
       "     survived  pclass     sex   age  sibsp  parch     fare embarked  class  \\\n",
       "1           1       1  female  38.0      1      0  71.2833        C  First   \n",
       "3           1       1  female  35.0      1      0  53.1000        S  First   \n",
       "6           0       1    male  54.0      0      0  51.8625        S  First   \n",
       "10          1       3  female   4.0      1      1  16.7000        S  Third   \n",
       "11          1       1  female  58.0      0      0  26.5500        S  First   \n",
       "..        ...     ...     ...   ...    ...    ...      ...      ...    ...   \n",
       "871         1       1  female  47.0      1      1  52.5542        S  First   \n",
       "872         0       1    male  33.0      0      0   5.0000        S  First   \n",
       "879         1       1  female  56.0      0      1  83.1583        C  First   \n",
       "887         1       1  female  19.0      0      0  30.0000        S  First   \n",
       "889         1       1    male  26.0      0      0  30.0000        C  First   \n",
       "\n",
       "       who  adult_male deck  embark_town alive  alone  \n",
       "1    woman       False    C    Cherbourg   yes  False  \n",
       "3    woman       False    C  Southampton   yes  False  \n",
       "6      man        True    E  Southampton    no   True  \n",
       "10   child       False    G  Southampton   yes  False  \n",
       "11   woman       False    C  Southampton   yes   True  \n",
       "..     ...         ...  ...          ...   ...    ...  \n",
       "871  woman       False    D  Southampton   yes  False  \n",
       "872    man        True    B  Southampton    no   True  \n",
       "879  woman       False    C    Cherbourg   yes  False  \n",
       "887  woman       False    B  Southampton   yes   True  \n",
       "889    man        True    C    Cherbourg   yes   True  \n",
       "\n",
       "[182 rows x 15 columns]"
      ]
     },
     "execution_count": 37,
     "metadata": {},
     "output_type": "execute_result"
    }
   ],
   "source": [
    "#4\n",
    "dt1 = titanic_data.dropna()\n",
    "for col in dt1.columns:\n",
    "    if dt1[col].isnull().any():\n",
    "        del dt1[col]\n",
    "dt1"
   ]
  },
  {
   "cell_type": "code",
   "execution_count": 38,
   "id": "4221d9bc",
   "metadata": {},
   "outputs": [
    {
     "data": {
      "text/html": [
       "<div>\n",
       "<style scoped>\n",
       "    .dataframe tbody tr th:only-of-type {\n",
       "        vertical-align: middle;\n",
       "    }\n",
       "\n",
       "    .dataframe tbody tr th {\n",
       "        vertical-align: top;\n",
       "    }\n",
       "\n",
       "    .dataframe thead th {\n",
       "        text-align: right;\n",
       "    }\n",
       "</style>\n",
       "<table border=\"1\" class=\"dataframe\">\n",
       "  <thead>\n",
       "    <tr style=\"text-align: right;\">\n",
       "      <th></th>\n",
       "      <th>survived</th>\n",
       "      <th>pclass</th>\n",
       "      <th>sex</th>\n",
       "      <th>sibsp</th>\n",
       "      <th>parch</th>\n",
       "      <th>fare</th>\n",
       "      <th>class</th>\n",
       "      <th>who</th>\n",
       "      <th>adult_male</th>\n",
       "      <th>alive</th>\n",
       "      <th>alone</th>\n",
       "    </tr>\n",
       "  </thead>\n",
       "  <tbody>\n",
       "    <tr>\n",
       "      <th>0</th>\n",
       "      <td>0</td>\n",
       "      <td>3</td>\n",
       "      <td>male</td>\n",
       "      <td>1</td>\n",
       "      <td>0</td>\n",
       "      <td>7.2500</td>\n",
       "      <td>Third</td>\n",
       "      <td>man</td>\n",
       "      <td>True</td>\n",
       "      <td>no</td>\n",
       "      <td>False</td>\n",
       "    </tr>\n",
       "    <tr>\n",
       "      <th>1</th>\n",
       "      <td>1</td>\n",
       "      <td>1</td>\n",
       "      <td>female</td>\n",
       "      <td>1</td>\n",
       "      <td>0</td>\n",
       "      <td>71.2833</td>\n",
       "      <td>First</td>\n",
       "      <td>woman</td>\n",
       "      <td>False</td>\n",
       "      <td>yes</td>\n",
       "      <td>False</td>\n",
       "    </tr>\n",
       "    <tr>\n",
       "      <th>2</th>\n",
       "      <td>1</td>\n",
       "      <td>3</td>\n",
       "      <td>female</td>\n",
       "      <td>0</td>\n",
       "      <td>0</td>\n",
       "      <td>7.9250</td>\n",
       "      <td>Third</td>\n",
       "      <td>woman</td>\n",
       "      <td>False</td>\n",
       "      <td>yes</td>\n",
       "      <td>True</td>\n",
       "    </tr>\n",
       "    <tr>\n",
       "      <th>3</th>\n",
       "      <td>1</td>\n",
       "      <td>1</td>\n",
       "      <td>female</td>\n",
       "      <td>1</td>\n",
       "      <td>0</td>\n",
       "      <td>53.1000</td>\n",
       "      <td>First</td>\n",
       "      <td>woman</td>\n",
       "      <td>False</td>\n",
       "      <td>yes</td>\n",
       "      <td>False</td>\n",
       "    </tr>\n",
       "    <tr>\n",
       "      <th>4</th>\n",
       "      <td>0</td>\n",
       "      <td>3</td>\n",
       "      <td>male</td>\n",
       "      <td>0</td>\n",
       "      <td>0</td>\n",
       "      <td>8.0500</td>\n",
       "      <td>Third</td>\n",
       "      <td>man</td>\n",
       "      <td>True</td>\n",
       "      <td>no</td>\n",
       "      <td>True</td>\n",
       "    </tr>\n",
       "    <tr>\n",
       "      <th>...</th>\n",
       "      <td>...</td>\n",
       "      <td>...</td>\n",
       "      <td>...</td>\n",
       "      <td>...</td>\n",
       "      <td>...</td>\n",
       "      <td>...</td>\n",
       "      <td>...</td>\n",
       "      <td>...</td>\n",
       "      <td>...</td>\n",
       "      <td>...</td>\n",
       "      <td>...</td>\n",
       "    </tr>\n",
       "    <tr>\n",
       "      <th>886</th>\n",
       "      <td>0</td>\n",
       "      <td>2</td>\n",
       "      <td>male</td>\n",
       "      <td>0</td>\n",
       "      <td>0</td>\n",
       "      <td>13.0000</td>\n",
       "      <td>Second</td>\n",
       "      <td>man</td>\n",
       "      <td>True</td>\n",
       "      <td>no</td>\n",
       "      <td>True</td>\n",
       "    </tr>\n",
       "    <tr>\n",
       "      <th>887</th>\n",
       "      <td>1</td>\n",
       "      <td>1</td>\n",
       "      <td>female</td>\n",
       "      <td>0</td>\n",
       "      <td>0</td>\n",
       "      <td>30.0000</td>\n",
       "      <td>First</td>\n",
       "      <td>woman</td>\n",
       "      <td>False</td>\n",
       "      <td>yes</td>\n",
       "      <td>True</td>\n",
       "    </tr>\n",
       "    <tr>\n",
       "      <th>888</th>\n",
       "      <td>0</td>\n",
       "      <td>3</td>\n",
       "      <td>female</td>\n",
       "      <td>1</td>\n",
       "      <td>2</td>\n",
       "      <td>23.4500</td>\n",
       "      <td>Third</td>\n",
       "      <td>woman</td>\n",
       "      <td>False</td>\n",
       "      <td>no</td>\n",
       "      <td>False</td>\n",
       "    </tr>\n",
       "    <tr>\n",
       "      <th>889</th>\n",
       "      <td>1</td>\n",
       "      <td>1</td>\n",
       "      <td>male</td>\n",
       "      <td>0</td>\n",
       "      <td>0</td>\n",
       "      <td>30.0000</td>\n",
       "      <td>First</td>\n",
       "      <td>man</td>\n",
       "      <td>True</td>\n",
       "      <td>yes</td>\n",
       "      <td>True</td>\n",
       "    </tr>\n",
       "    <tr>\n",
       "      <th>890</th>\n",
       "      <td>0</td>\n",
       "      <td>3</td>\n",
       "      <td>male</td>\n",
       "      <td>0</td>\n",
       "      <td>0</td>\n",
       "      <td>7.7500</td>\n",
       "      <td>Third</td>\n",
       "      <td>man</td>\n",
       "      <td>True</td>\n",
       "      <td>no</td>\n",
       "      <td>True</td>\n",
       "    </tr>\n",
       "  </tbody>\n",
       "</table>\n",
       "<p>891 rows × 11 columns</p>\n",
       "</div>"
      ],
      "text/plain": [
       "     survived  pclass     sex  sibsp  parch     fare   class    who  \\\n",
       "0           0       3    male      1      0   7.2500   Third    man   \n",
       "1           1       1  female      1      0  71.2833   First  woman   \n",
       "2           1       3  female      0      0   7.9250   Third  woman   \n",
       "3           1       1  female      1      0  53.1000   First  woman   \n",
       "4           0       3    male      0      0   8.0500   Third    man   \n",
       "..        ...     ...     ...    ...    ...      ...     ...    ...   \n",
       "886         0       2    male      0      0  13.0000  Second    man   \n",
       "887         1       1  female      0      0  30.0000   First  woman   \n",
       "888         0       3  female      1      2  23.4500   Third  woman   \n",
       "889         1       1    male      0      0  30.0000   First    man   \n",
       "890         0       3    male      0      0   7.7500   Third    man   \n",
       "\n",
       "     adult_male alive  alone  \n",
       "0          True    no  False  \n",
       "1         False   yes  False  \n",
       "2         False   yes   True  \n",
       "3         False   yes  False  \n",
       "4          True    no   True  \n",
       "..          ...   ...    ...  \n",
       "886        True    no   True  \n",
       "887       False   yes   True  \n",
       "888       False    no  False  \n",
       "889        True   yes   True  \n",
       "890        True    no   True  \n",
       "\n",
       "[891 rows x 11 columns]"
      ]
     },
     "execution_count": 38,
     "metadata": {},
     "output_type": "execute_result"
    }
   ],
   "source": [
    "dt2 = titanic_data\n",
    "for col in dt2.columns:\n",
    "    if dt2[col].isnull().any():\n",
    "        del dt2[col]\n",
    "dt2 = dt2.dropna()\n",
    "dt2"
   ]
  },
  {
   "cell_type": "code",
   "execution_count": 39,
   "id": "5d1de15a",
   "metadata": {},
   "outputs": [],
   "source": [
    "#In this case, we can find:\n",
    "#In dt1 , we apply <df.dropna()> before <del df['col']>, we keep every variables, but we almost lost all of the observations.\n",
    "#In dt2 , we apply <del df['col']> before <df.dropna()> that we can keep every observations by deleting onlyl 4 variables.\n",
    "#So, applying del df['col'] before df.dropna() is important."
   ]
  },
  {
   "cell_type": "code",
   "execution_count": 40,
   "id": "82436cde",
   "metadata": {},
   "outputs": [
    {
     "data": {
      "text/plain": [
       "'________________________________________________________________________'"
      ]
     },
     "execution_count": 40,
     "metadata": {},
     "output_type": "execute_result"
    }
   ],
   "source": [
    "'________________________________________________________________________'"
   ]
  },
  {
   "cell_type": "code",
   "execution_count": 41,
   "id": "3bcf1a3f",
   "metadata": {},
   "outputs": [],
   "source": [
    "#Q8"
   ]
  },
  {
   "cell_type": "code",
   "execution_count": 42,
   "id": "d47853b2",
   "metadata": {},
   "outputs": [],
   "source": [
    "#1:"
   ]
  },
  {
   "cell_type": "code",
   "execution_count": 43,
   "id": "dbc533fd",
   "metadata": {},
   "outputs": [],
   "source": [
    "#According to Chatgpt:\n",
    "#Grouping: df.groupby(\"col1\") groups the data by the unique values in col1.\n",
    "#Selecting the column: [\"col2\"] selects the specific column col2 from the grouped data.\n",
    "#Descriptive statistics: .describe() then calculates summary statistics for each group within col1 for col2."
   ]
  },
  {
   "cell_type": "code",
   "execution_count": 44,
   "id": "70b1b79a",
   "metadata": {},
   "outputs": [],
   "source": [
    "#2"
   ]
  },
  {
   "cell_type": "code",
   "execution_count": 45,
   "id": "c1828e0a",
   "metadata": {},
   "outputs": [],
   "source": [
    "#df.describe() provides a column-wide summary and handles missing values by excluding them for each column independently.\n",
    "#df.groupby(\"col1\")[\"col2\"].describe() provides a summary for specific groups (based on col1) and handles missing values within those groups."
   ]
  },
  {
   "cell_type": "code",
   "execution_count": 46,
   "id": "390d3414",
   "metadata": {},
   "outputs": [],
   "source": [
    "#3"
   ]
  },
  {
   "cell_type": "code",
   "execution_count": 47,
   "id": "6393e995",
   "metadata": {},
   "outputs": [],
   "source": [
    "#I will create a new file to solve Q8-3\n",
    "#link:\n",
    "#https://jupyter.utoronto.ca/user/haoce.zhang@mail.utoronto.ca/notebooks/Error_fix.ipynb"
   ]
  },
  {
   "cell_type": "code",
   "execution_count": 48,
   "id": "300966b3",
   "metadata": {},
   "outputs": [
    {
     "data": {
      "text/plain": [
       "'________________________________________________________________________'"
      ]
     },
     "execution_count": 48,
     "metadata": {},
     "output_type": "execute_result"
    }
   ],
   "source": [
    "'________________________________________________________________________'"
   ]
  },
  {
   "cell_type": "code",
   "execution_count": 49,
   "id": "88408177",
   "metadata": {},
   "outputs": [],
   "source": [
    "#Q9"
   ]
  },
  {
   "cell_type": "code",
   "execution_count": 50,
   "id": "93b00bf8",
   "metadata": {},
   "outputs": [],
   "source": [
    "#Yes, here are summaries for each sessions."
   ]
  },
  {
   "cell_type": "code",
   "execution_count": 51,
   "id": "722129e4",
   "metadata": {},
   "outputs": [
    {
     "data": {
      "text/plain": [
       "'Exploring Dataset Dimensions:\\n\\n1. You asked how to get the number of rows and columns in a dataset. We discussed using the attribute df.shape, which returns a tuple representing the number of rows and columns.\\nUnderstanding \"Observations\" and \"Variables\":\\n\\n2. We clarified that observations are the rows in a dataset (each individual record or data point), and variables are the columns (attributes or characteristics of the data).\\nGetting Summaries of Columns:\\n\\n3. To summarize data, we explored several ways to use the pandas library in Python, including df.info(), df.describe(), df.head(), df.nunique(), and value_counts() for basic column insights.\\nDiscrepancies Between df.shape and df.describe():\\n\\n4. We discussed that df.shape gives the dataset\\'s full dimensions (rows and columns), while df.describe() analyzes only numeric columns (unless include=\\'all\\' is specified). The \"count\" in df.describe() reflects non-null values, which may differ from the total number of rows.\\nAttributes vs. Methods:\\n\\n5. We explained the difference between attributes (e.g., df.shape, which do not need parentheses and simply store information) and methods (e.g., df.describe(), which perform actions and require parentheses).\\nSummary Statistics in df.describe():\\n\\n6. We broke down the meaning of each statistic provided by df.describe(), including count, mean, std, min, 25%, 50% (median), 75%, and max.\\nFormula for Standard Deviation:\\n\\n7. We provided the formula for sample standard deviation, used by df.describe(), which measures the spread of the data around the mean.'"
      ]
     },
     "execution_count": 51,
     "metadata": {},
     "output_type": "execute_result"
    }
   ],
   "source": [
    "#Session 1:\n",
    "#https://chatgpt.com/share/245c196d-0b9b-468f-9154-69fd4f5be7be\n",
    "'''Exploring Dataset Dimensions:\n",
    "\n",
    "1. You asked how to get the number of rows and columns in a dataset. We discussed using the attribute df.shape, which returns a tuple representing the number of rows and columns.\n",
    "Understanding \"Observations\" and \"Variables\":\n",
    "\n",
    "2. We clarified that observations are the rows in a dataset (each individual record or data point), and variables are the columns (attributes or characteristics of the data).\n",
    "Getting Summaries of Columns:\n",
    "\n",
    "3. To summarize data, we explored several ways to use the pandas library in Python, including df.info(), df.describe(), df.head(), df.nunique(), and value_counts() for basic column insights.\n",
    "Discrepancies Between df.shape and df.describe():\n",
    "\n",
    "4. We discussed that df.shape gives the dataset's full dimensions (rows and columns), while df.describe() analyzes only numeric columns (unless include='all' is specified). The \"count\" in df.describe() reflects non-null values, which may differ from the total number of rows.\n",
    "Attributes vs. Methods:\n",
    "\n",
    "5. We explained the difference between attributes (e.g., df.shape, which do not need parentheses and simply store information) and methods (e.g., df.describe(), which perform actions and require parentheses).\n",
    "Summary Statistics in df.describe():\n",
    "\n",
    "6. We broke down the meaning of each statistic provided by df.describe(), including count, mean, std, min, 25%, 50% (median), 75%, and max.\n",
    "Formula for Standard Deviation:\n",
    "\n",
    "7. We provided the formula for sample standard deviation, used by df.describe(), which measures the spread of the data around the mean.'''"
   ]
  },
  {
   "cell_type": "code",
   "execution_count": 52,
   "id": "55db4f9b",
   "metadata": {},
   "outputs": [
    {
     "data": {
      "text/plain": [
       "\"Summary of This Session:\\n1. Efficient Use of df.dropna() and del df['col']:\\n\\n2. df.dropna() removes rows or columns based on missing values. You can use it with or without arguments to drop rows/columns where missing data exists.\\ndel df['col'] is used to delete specific columns, including those with missing values. This method is useful when you know a particular column isn't needed and has missing data.\\nUse Case for df.dropna() Without Arguments:\\n\\n3. df.dropna() without arguments is ideal when you want to remove all rows that contain any missing values. This is useful when incomplete data could bias your results, and you need complete rows for analysis.\\nUse Case for del df['col']:\\n\\n4. del df['col'] is preferred when you have a column with too many missing values that is irrelevant or unimportant for your analysis. Removing this column preserves the rows and valuable data in other columns.\\nWhy Deleting Columns First (del df['col']) Matters:\\n\\n5. Deleting columns with missing data before applying df.dropna() prevents unintended row deletions. This helps in retaining useful rows that may have valid data in other columns, minimizing data loss.\\nHow to Delete Columns with Missing Data:\\n\\nWe demonstrated a method to delete columns that contain missing values using a loop with del df['col']. This approach gives fine control over the columns you wish to remove.\\nThis session focused on efficiently managing missing data in datasets by using df.dropna() and del df['col'] for different scenarios. You learned when to prefer one method over the other and how to combine them to preserve important data while cleaning your dataset.\""
      ]
     },
     "execution_count": 52,
     "metadata": {},
     "output_type": "execute_result"
    }
   ],
   "source": [
    "#Session 2:\n",
    "#https://chatgpt.com/share/5e62e64f-8847-46f0-afe5-31e0af7646b7\n",
    "'''Summary of This Session:\n",
    "1. Efficient Use of df.dropna() and del df['col']:\n",
    "\n",
    "2. df.dropna() removes rows or columns based on missing values. You can use it with or without arguments to drop rows/columns where missing data exists.\n",
    "del df['col'] is used to delete specific columns, including those with missing values. This method is useful when you know a particular column isn't needed and has missing data.\n",
    "Use Case for df.dropna() Without Arguments:\n",
    "\n",
    "3. df.dropna() without arguments is ideal when you want to remove all rows that contain any missing values. This is useful when incomplete data could bias your results, and you need complete rows for analysis.\n",
    "Use Case for del df['col']:\n",
    "\n",
    "4. del df['col'] is preferred when you have a column with too many missing values that is irrelevant or unimportant for your analysis. Removing this column preserves the rows and valuable data in other columns.\n",
    "Why Deleting Columns First (del df['col']) Matters:\n",
    "\n",
    "5. Deleting columns with missing data before applying df.dropna() prevents unintended row deletions. This helps in retaining useful rows that may have valid data in other columns, minimizing data loss.\n",
    "How to Delete Columns with Missing Data:\n",
    "\n",
    "We demonstrated a method to delete columns that contain missing values using a loop with del df['col']. This approach gives fine control over the columns you wish to remove.\n",
    "This session focused on efficiently managing missing data in datasets by using df.dropna() and del df['col'] for different scenarios. You learned when to prefer one method over the other and how to combine them to preserve important data while cleaning your dataset.'''"
   ]
  },
  {
   "cell_type": "code",
   "execution_count": 53,
   "id": "c3748f16",
   "metadata": {},
   "outputs": [
    {
     "data": {
      "text/plain": [
       "\"Common Python Errors: You encountered several Python errors, and we addressed each one:\\n\\nNameError: 'pd' is not defined: This was resolved by importing the pandas library using import pandas as pd.\\nFileNotFoundError: This occurred due to an incorrect file path, and we discussed how to check the file location or path.\\nNameError: 'DF' is not defined: The variable name was case-sensitive, and we discussed ensuring the correct usage of df or DF.\\nSyntaxError: incomplete input: This was caused by incomplete code, like missing parentheses or incomplete statements.\\nAttributeError: 'SeriesGroupBy' object has no attribute 'describle': A typo in the method name was the issue, and it was corrected to describe.\\nKeyError: 'Sex' and 'Age': These occurred due to missing or incorrectly spelled column names. We covered how to verify column names, strip spaces, and rename columns if needed.\\nNameError: 'sex' is not defined: This was resolved by ensuring the correct reference to DataFrame columns (i.e., df['sex']).\\nGeneral Debugging: We discussed best practices for handling errors, including checking column names, ensuring proper data loading, and using correct syntax when referencing DataFrame columns.\""
      ]
     },
     "execution_count": 53,
     "metadata": {},
     "output_type": "execute_result"
    }
   ],
   "source": [
    "#Session 3:\n",
    "#https://chatgpt.com/share/6c258ebb-87d9-4ed1-8a97-0194a06c71dc\n",
    "'''Common Python Errors: You encountered several Python errors, and we addressed each one:\n",
    "\n",
    "NameError: 'pd' is not defined: This was resolved by importing the pandas library using import pandas as pd.\n",
    "FileNotFoundError: This occurred due to an incorrect file path, and we discussed how to check the file location or path.\n",
    "NameError: 'DF' is not defined: The variable name was case-sensitive, and we discussed ensuring the correct usage of df or DF.\n",
    "SyntaxError: incomplete input: This was caused by incomplete code, like missing parentheses or incomplete statements.\n",
    "AttributeError: 'SeriesGroupBy' object has no attribute 'describle': A typo in the method name was the issue, and it was corrected to describe.\n",
    "KeyError: 'Sex' and 'Age': These occurred due to missing or incorrectly spelled column names. We covered how to verify column names, strip spaces, and rename columns if needed.\n",
    "NameError: 'sex' is not defined: This was resolved by ensuring the correct reference to DataFrame columns (i.e., df['sex']).\n",
    "General Debugging: We discussed best practices for handling errors, including checking column names, ensuring proper data loading, and using correct syntax when referencing DataFrame columns.'''"
   ]
  }
 ],
 "metadata": {
  "kernelspec": {
   "display_name": "Python 3 (ipykernel)",
   "language": "python",
   "name": "python3"
  },
  "language_info": {
   "codemirror_mode": {
    "name": "ipython",
    "version": 3
   },
   "file_extension": ".py",
   "mimetype": "text/x-python",
   "name": "python",
   "nbconvert_exporter": "python",
   "pygments_lexer": "ipython3",
   "version": "3.11.6"
  }
 },
 "nbformat": 4,
 "nbformat_minor": 5
}
