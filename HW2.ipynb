{
 "cells": [
  {
   "cell_type": "code",
   "execution_count": 1,
   "id": "f7891229",
   "metadata": {},
   "outputs": [],
   "source": [
    "#Q1"
   ]
  },
  {
   "cell_type": "code",
   "execution_count": 2,
   "id": "924ad9e0",
   "metadata": {},
   "outputs": [],
   "source": [
    "#Chatgpt session:\n",
    "#https://chatgpt.com/share/66e82eb3-c38c-8009-a894-3d03691a3011"
   ]
  },
  {
   "cell_type": "code",
   "execution_count": 3,
   "id": "32a66b06",
   "metadata": {},
   "outputs": [
    {
     "data": {
      "text/plain": [
       "'________________________________________________________________________'"
      ]
     },
     "execution_count": 3,
     "metadata": {},
     "output_type": "execute_result"
    }
   ],
   "source": [
    "'________________________________________________________________________'"
   ]
  },
  {
   "cell_type": "code",
   "execution_count": 4,
   "id": "f057ef53",
   "metadata": {},
   "outputs": [],
   "source": [
    "#Q2"
   ]
  },
  {
   "cell_type": "code",
   "execution_count": 5,
   "id": "af599542",
   "metadata": {},
   "outputs": [],
   "source": [
    "#Original code:"
   ]
  },
  {
   "cell_type": "code",
   "execution_count": 6,
   "id": "53c9c0eb",
   "metadata": {},
   "outputs": [
    {
     "data": {
      "text/plain": [
       "0.66684"
      ]
     },
     "execution_count": 6,
     "metadata": {},
     "output_type": "execute_result"
    }
   ],
   "source": [
    "# Monte Hall Simulation Code -- not the only way to code this, but it's what Prof. Schwartz came up with...\n",
    "\n",
    "import numpy as np\n",
    "all_door_options = (1,2,3)  # tuple\n",
    "my_door_choice = 1  # 1,2,3\n",
    "i_won = 0\n",
    "reps = 100000\n",
    "for i in range(reps):\n",
    "    secret_winning_door = np.random.choice(all_door_options)\n",
    "    all_door_options_list = list(all_door_options)\n",
    "    # take the secret_winning_door, so we don't show it as a \"goat\" losing door\n",
    "    all_door_options_list.remove(secret_winning_door)\n",
    "    try:\n",
    "        # if my_door_choice was secret_winning_door then it's already removed\n",
    "        all_door_options_list.remove(my_door_choice)\n",
    "    except:\n",
    "        pass\n",
    "    # show a \"goat\" losing door and remove it\n",
    "    goat_door_reveal = np.random.choice(all_door_options_list)\n",
    "    all_door_options_list.remove(goat_door_reveal)\n",
    "\n",
    "    # put the secret_winning_door back in if it wasn't our choice\n",
    "    # we previously removed it, so it would be shown as a  \"goat\" losing door\n",
    "    if secret_winning_door != my_door_choice:\n",
    "        all_door_options_list.append(secret_winning_door)\n",
    "    # if secret_winning_door was our choice then all that's left in the list is a \"goat\" losing door\n",
    "    # if secret_winning_door wasn't our choice then it's all that will be left in the list\n",
    "\n",
    "    # swap strategy\n",
    "    my_door_choice = all_door_options_list[0]\n",
    "\n",
    "    if my_door_choice == secret_winning_door:\n",
    "        i_won += 1\n",
    "\n",
    "i_won/reps"
   ]
  },
  {
   "cell_type": "code",
   "execution_count": 7,
   "id": "a6a307d1",
   "metadata": {},
   "outputs": [],
   "source": [
    "#Code provided by Chatgpt:"
   ]
  },
  {
   "cell_type": "code",
   "execution_count": 8,
   "id": "990dcdfe",
   "metadata": {},
   "outputs": [
    {
     "name": "stdout",
     "output_type": "stream",
     "text": [
      "0.66699\n"
     ]
    }
   ],
   "source": [
    "import numpy as np\n",
    "\n",
    "# Variables\n",
    "reps = 100000  # Number of repetitions\n",
    "i_won = 0  # Counter for wins\n",
    "\n",
    "for _ in range(reps):\n",
    "    # Randomly assign the winning door (1, 2, or 3)\n",
    "    winning_door = np.random.choice([1, 2, 3])\n",
    "    \n",
    "    # Player initially picks door 1 (fixed choice)\n",
    "    player_choice = 1\n",
    "\n",
    "    # Host opens a \"goat\" door, which is not the player's choice or the winning door\n",
    "    possible_goat_doors = [door for door in [1, 2, 3] if door != player_choice and door != winning_door]\n",
    "    goat_door = np.random.choice(possible_goat_doors)\n",
    "    \n",
    "    # The player switches to the remaining unopened door\n",
    "    remaining_door = [door for door in [1, 2, 3] if door != player_choice and door != goat_door][0]\n",
    "    player_choice = remaining_door\n",
    "\n",
    "    # Count a win if the player's final choice matches the winning door\n",
    "    if player_choice == winning_door:\n",
    "        i_won += 1\n",
    "\n",
    "# Calculate the probability of winning by switching\n",
    "win_rate = i_won / reps\n",
    "print(win_rate)"
   ]
  },
  {
   "cell_type": "code",
   "execution_count": 9,
   "id": "c20f42e9",
   "metadata": {},
   "outputs": [],
   "source": [
    "#In the code of Chatgpt provide me, <i> is changed into <_> maybe because it is not used\n",
    "#The two lines of for loops are a little difficult to read.\n",
    "#But the logic of code is simplefied that is easier to understand.\n",
    "#Overall I perfer to the new one Chatgpt provide me."
   ]
  },
  {
   "cell_type": "code",
   "execution_count": 10,
   "id": "444dbc94",
   "metadata": {},
   "outputs": [
    {
     "data": {
      "text/plain": [
       "'________________________________________________________________________'"
      ]
     },
     "execution_count": 10,
     "metadata": {},
     "output_type": "execute_result"
    }
   ],
   "source": [
    "'________________________________________________________________________'"
   ]
  },
  {
   "cell_type": "code",
   "execution_count": 11,
   "id": "de7507bf",
   "metadata": {},
   "outputs": [],
   "source": [
    "#Q3"
   ]
  },
  {
   "cell_type": "code",
   "execution_count": 12,
   "id": "aecd3f8e",
   "metadata": {},
   "outputs": [],
   "source": [
    "#Final version code:"
   ]
  },
  {
   "cell_type": "code",
   "execution_count": 13,
   "id": "7fd60414",
   "metadata": {},
   "outputs": [
    {
     "data": {
      "text/plain": [
       "0.66649"
      ]
     },
     "execution_count": 13,
     "metadata": {},
     "output_type": "execute_result"
    }
   ],
   "source": [
    "import numpy as np #Import numpy module\n",
    "\n",
    "# Variables\n",
    "reps = 100000  # Number of repetitions\n",
    "i_won = 0  # Counter for wins\n",
    "\n",
    "for _ in range(reps): # Repeat for 100000 times\n",
    "    # Randomly assign the winning door (1, 2, or 3)\n",
    "    winning_door = np.random.choice([1, 2, 3])\n",
    "    \n",
    "    # Player initially picks door 1, you can image that player choose a random door but it is always rearranged to 1\n",
    "    player_choice = 1\n",
    "\n",
    "    # Host opens a \"goat\" door, which is not the player's choice or the winning door\n",
    "    possible_goat_doors = [door for door in [1, 2, 3] if door != player_choice and door != winning_door]\n",
    "    # Let the openned door to be a random filtered goat door (neither a car door nor a door chosen by player)\n",
    "    goat_door = np.random.choice(possible_goat_doors)\n",
    "    \n",
    "    # To assign which door is neither a openned door nor a door chosen by player, it will be the door to switch\n",
    "    remaining_door = [door for door in [1, 2, 3] if door != player_choice and door != goat_door][0]\n",
    "    # Switch the choice\n",
    "    player_choice = remaining_door\n",
    "\n",
    "    # Count a win if the player's final choice matches the winning door\n",
    "    if player_choice == winning_door: i_won += 1\n",
    "        \n",
    "# Calculate the probability of winning by switching\n",
    "win_rate = i_won / reps\n",
    "# Print the probability\n",
    "win_rate"
   ]
  },
  {
   "cell_type": "code",
   "execution_count": 14,
   "id": "7e8a2305",
   "metadata": {},
   "outputs": [],
   "source": [
    "#Q4"
   ]
  },
  {
   "cell_type": "code",
   "execution_count": 15,
   "id": "f3824397",
   "metadata": {},
   "outputs": [
    {
     "data": {
      "image/jpeg": "[encoded data removed]",
      "text/html": [
       "\n",
       "        <iframe\n",
       "            width=\"550\"\n",
       "            height=\"300\"\n",
       "            src=\"https://www.youtube.com/embed/56mGTszb_iM\"\n",
       "            frameborder=\"0\"\n",
       "            allowfullscreen\n",
       "            \n",
       "        ></iframe>\n",
       "        "
      ],
      "text/plain": [
       "<IPython.lib.display.YouTubeVideo at 0x7fe8bf172c50>"
      ]
     },
     "execution_count": 15,
     "metadata": {},
     "output_type": "execute_result"
    }
   ],
   "source": [
    "# Markov Chains and Text Generation\n",
    "from IPython.display import YouTubeVideo\n",
    "YouTubeVideo('56mGTszb_iM', width = 550)"
   ]
  },
  {
   "cell_type": "code",
   "execution_count": 16,
   "id": "30f50e5e",
   "metadata": {},
   "outputs": [],
   "source": [
    "#Chatbot session:\n",
    "#https://chatgpt.com/share/66e8e967-5ae4-8009-acaa-ac49af6dcff8"
   ]
  },
  {
   "cell_type": "code",
   "execution_count": 17,
   "id": "fd15a84d",
   "metadata": {},
   "outputs": [
    {
     "name": "stdout",
     "output_type": "stream",
     "text": [
      "your name\n"
     ]
    }
   ],
   "source": [
    "# Markovian Chatbot\n",
    "\n",
    "# from collections import defaultdict\n",
    "word_used = dict() # defaultdict(int)\n",
    "next_word = dict() # defaultdict(lambda: defaultdict(int))\n",
    "for i,word in enumerate(words[:-1]):\n",
    "\n",
    "    if word in word_used:\n",
    "        word_used[word] += 1\n",
    "    else:\n",
    "        word_used[word] = 1\n",
    "        next_word[word] = {}\n",
    "\n",
    "    if words[i+1] in next_word[word]:\n",
    "        next_word[word][words[i+1]] += 1\n",
    "    else:\n",
    "        next_word[word][words[i+1]] = 1"
   ]
  },
  {
   "cell_type": "code",
   "execution_count": 18,
   "id": "cef211e1",
   "metadata": {},
   "outputs": [
    {
     "data": {
      "text/plain": [
       "'\\nIn this session, we discussed the concept of a Markovian ChatBot and how it works. I provided a basic Python implementation of the chatbot that builds a Markov chain from training text to generate sentences. Here’s a brief summary:\\n\\nMarkovian ChatBot Explanation:\\n\\nThe chatbot learns from input text by creating word pairs where each word leads to the next.\\nIt stores these word transitions in a Markov chain, which is then used to generate new sentences by starting with a random word and following the chain of transitions.\\nThe chatbot doesn’t understand meaning but mimics the structure of the text it was trained on.\\nRunning the Code:\\n\\nI ran the Python code to train the chatbot on simple sentences like \"hello how are you\" and \"I am doing great, thank you.\"\\nThe chatbot generated the sentence: \"great, thank you doing great, thank you doing great, thank,\" showcasing the behavior of the Markov chain model.\\nThis provided a clear example of how the chatbot builds on its training data to generate text, albeit with some repetition due to limited training.'"
      ]
     },
     "execution_count": 18,
     "metadata": {},
     "output_type": "execute_result"
    }
   ],
   "source": [
    "'''\n",
    "In this session, we discussed the concept of a Markovian ChatBot and how it works. I provided a basic Python implementation of the chatbot that builds a Markov chain from training text to generate sentences. Here’s a brief summary:\n",
    "\n",
    "Markovian ChatBot Explanation:\n",
    "\n",
    "The chatbot learns from input text by creating word pairs where each word leads to the next.\n",
    "It stores these word transitions in a Markov chain, which is then used to generate new sentences by starting with a random word and following the chain of transitions.\n",
    "The chatbot doesn’t understand meaning but mimics the structure of the text it was trained on.\n",
    "Running the Code:\n",
    "\n",
    "I ran the Python code to train the chatbot on simple sentences like \"hello how are you\" and \"I am doing great, thank you.\"\n",
    "The chatbot generated the sentence: \"great, thank you doing great, thank you doing great, thank,\" showcasing the behavior of the Markov chain model.\n",
    "This provided a clear example of how the chatbot builds on its training data to generate text, albeit with some repetition due to limited training.'''"
   ]
  },
  {
   "cell_type": "code",
   "execution_count": 19,
   "id": "44219bd8",
   "metadata": {},
   "outputs": [],
   "source": [
    "#Q5"
   ]
  },
  {
   "cell_type": "code",
   "execution_count": 20,
   "id": "d1baafe5",
   "metadata": {},
   "outputs": [],
   "source": [
    "#1:"
   ]
  },
  {
   "cell_type": "code",
   "execution_count": 21,
   "id": "1ec8033e",
   "metadata": {},
   "outputs": [
    {
     "name": "stdout",
     "output_type": "stream",
     "text": [
      "Bob: Now, what about the event next week?\n",
      "Charlie: You're right! It's supposed to go. We should all attend together. What\n",
      "Alice: left it for days. I was talking about? Did you guys hear\n",
      "Charlie: was talking about? Did you guys hear about that news I heard\n",
      "Charlie: losing things but never checking where they might be true. Charlie, did\n",
      "Alice: since we last met.\n",
      "Bob: should all attend together. What do you guys hear about it. It's\n",
      "Alice: Maybe you seen it. Maybe you guys hear about the latest news?\n",
      "Bob: wait to be amazing.\n",
      "Bob: hear about it on the latest news?\n"
     ]
    }
   ],
   "source": [
    "# Markovian Chatbot Extension #1\n",
    "\n",
    "word_used2 = defaultdict(int)\n",
    "next_word2 = defaultdict(lambda: defaultdict(int))\n",
    "for i,word in enumerate(words[:-2]):\n",
    "    word_used2[word+' '+words[i+1]] += 1\n",
    "    next_word2[word+' '+words[i+1]][words[i+2]] += 1 "
   ]
  },
  {
   "cell_type": "code",
   "execution_count": null,
   "id": "84075ab2",
   "metadata": {},
   "outputs": [],
   "source": [
    "# Markovian Chatbot Extension #2\n",
    "\n",
    "from collections import Counter, defaultdict\n",
    "# `avatar` is a dataset, and `character` is one of it's columns\n",
    "characters = Counter(\"\\n\"+ avatar.character.str.upper().str.replace(' ','.')+\":\")\n",
    "# this code changes the type of the `character` column to `str`; then,\n",
    "# makes the text uppercase, and replaces spaces with '.'\n",
    "\n",
    "nested_dict = lambda: defaultdict(nested_dict)\n",
    "word_used2C = nested_dict()\n",
    "next_word2C = nested_dict()\n",
    "\n",
    "for i,word in enumerate(words[:-2]):\n",
    "    if word in characters:\n",
    "        character = word\n",
    "        \n",
    "    if character not in word_used2C:\n",
    "        word_used2C[character] = dict()\n",
    "    if word+' '+words[i+1] not in word_used2C[character]:\n",
    "        word_used2C[character][word+' '+words[i+1]] = 0\n",
    "    word_used2C[character][word+' '+words[i+1]] += 1\n",
    "    \n",
    "    if character not in next_word2C:\n",
    "        next_word2C[character] = dict()\n",
    "    if word+' '+words[i+1] not in next_word2C[character]:\n",
    "        next_word2C[character][word+' '+words[i+1]] = dict()\n",
    "    if words[i+2] not in next_word2C[character][word+' '+words[i+1]]:\n",
    "        next_word2C[character][word+' '+words[i+1]][words[i+2]] = 0\n",
    "    next_word2C[character][word+' '+words[i+1]][words[i+2]] += 1"
   ]
  },
  {
   "cell_type": "code",
   "execution_count": 22,
   "id": "b68ae1af",
   "metadata": {},
   "outputs": [],
   "source": [
    "#2:"
   ]
  },
  {
   "cell_type": "code",
   "execution_count": 23,
   "id": "3e21dd58",
   "metadata": {},
   "outputs": [],
   "source": [
    "#View in session 2"
   ]
  },
  {
   "cell_type": "code",
   "execution_count": 24,
   "id": "91472b35",
   "metadata": {},
   "outputs": [],
   "source": [
    "#3:"
   ]
  },
  {
   "cell_type": "code",
   "execution_count": null,
   "id": "50d836c1",
   "metadata": {},
   "outputs": [],
   "source": [
    "#Feedback by ChatBot, It can perfectly understand and explain the extensions in the new code."
   ]
  },
  {
   "cell_type": "code",
   "execution_count": 25,
   "id": "9fc68182",
   "metadata": {},
   "outputs": [
    {
     "data": {
      "text/plain": [
       "\"The extended version, SimpleMarkovStoryBot, builds on the original Markovian chatbot by adding several new features:\\n\\nKey Extensions:\\nCharacter-based dialogues:\\n\\nThe train method is updated to handle text in a format where different characters have specific dialogues. The text is split by lines, and each line is assumed to follow the format: Character: Dialogue.\\nA character_dialogues dictionary stores the dialogues specific to each character, and the set characters keeps track of the names of all characters.\\nBigram Markov chain:\\n\\nThe Markov chain is now built specifically for each character, using bigrams (pairs of consecutive words) to track transitions between words in the character's dialogues.\\nCharacter-specific sentence generation:\\n\\nThe generate_sentence method is now character-specific. It picks a random word from a particular character's dialogue and generates a sentence based on that character's Markov chain.\\nDialogue generation:\\n\\nThe generate_dialogue method generates a full line of dialogue for a specific character, following the format: Character: Sentence. This method provides a more structured output for generating stories.\\nMulti-character story generation:\\n\\nThe generate_story method creates a story with multiple lines of dialogue, randomly choosing characters from the set and generating a sentence for each one. The number of lines and the sentence length can be customized.\\nSummary of Differences:\\nOriginal Version: The original chatbot is trained on general text and generates sentences without character distinction, using simple unigrams (single words).\\nExtended Version: The new bot is designed for character-driven stories, where each character's dialogue is handled separately, and bigrams are used to model word transitions. It generates dialogue specific to each character and can create multi-character stories with multiple lines of dialogue.\\nThis makes the extended version much more suited for creating interactive, character-based stories, while the original chatbot is a simpler text generator.\""
      ]
     },
     "execution_count": 25,
     "metadata": {},
     "output_type": "execute_result"
    }
   ],
   "source": [
    "#Url: https://chatgpt.com/share/66ecbd02-01fc-8009-8cde-3797f6544873"
   ]
  },
  {
   "cell_type": "code",
   "execution_count": 26,
   "id": "34ec8758",
   "metadata": {},
   "outputs": [
    {
     "data": {
      "text/plain": [
       "'________________________________________________________________________'"
      ]
     },
     "execution_count": 26,
     "metadata": {},
     "output_type": "execute_result"
    }
   ],
   "source": [
    "'________________________________________________________________________'"
   ]
  },
  {
   "cell_type": "code",
   "execution_count": 27,
   "id": "fcac0f42",
   "metadata": {},
   "outputs": [],
   "source": [
    "#Q6"
   ]
  },
  {
   "cell_type": "code",
   "execution_count": 28,
   "id": "4c23fb81",
   "metadata": {},
   "outputs": [],
   "source": [
    "#1:"
   ]
  },
  {
   "cell_type": "code",
   "execution_count": 29,
   "id": "211fe5ee",
   "metadata": {},
   "outputs": [
    {
     "data": {
      "text/plain": [
       "'\\nWhen dealing with the Monty Hall problem, the ChatBot quickly explained and helped me understand the code. \\nIt explained me details of the problem and offered step-by-step explanations, helping me understand each part of the code. \\nFor the Markovian ChatBot code, the ChatBot was also able to effectively explain the logic and purpose of the code. \\nEspecially when generating Markov chains. It provided useful code and explained concepts.\\n'"
      ]
     },
     "execution_count": 29,
     "metadata": {},
     "output_type": "execute_result"
    }
   ],
   "source": [
    "'''When dealing with the Monty Hall problem, the ChatBot quickly explained and helped me understand the code. \n",
    "It explained me details of the problem and offered step-by-step explanations, helping me understand each part of the code. \n",
    "For the Markovian ChatBot code, the ChatBot was also able to effectively explain the logic and purpose of the code. \n",
    "Especially when generating Markov chains. It provided useful code and explained concepts.'''"
   ]
  },
  {
   "cell_type": "code",
   "execution_count": 30,
   "id": "c8ee2f25",
   "metadata": {},
   "outputs": [],
   "source": [
    "#2"
   ]
  },
  {
   "cell_type": "code",
   "execution_count": 31,
   "id": "75d36e16",
   "metadata": {},
   "outputs": [
    {
     "data": {
      "text/plain": [
       "\"\\nIn most cases, the ChatBot's explanations were helpful.\\nBut sometimes the code provided by Chatgpt is too complexed that is difficult to understand.\\nAnd sometimes Chatgpt provide too much information at a same time that I cannot consume them\\nHowever, with prompts and guidance, I can get expected answers in most cases.\\n\""
      ]
     },
     "execution_count": 31,
     "metadata": {},
     "output_type": "execute_result"
    }
   ],
   "source": [
    "'''In most cases, the ChatBot's explanations were helpful.\n",
    "But sometimes the code provided by Chatgpt is too complexed that is difficult to understand.\n",
    "And sometimes Chatgpt provide too much information at a same time that I cannot consume them\n",
    "However, with prompts and guidance, I can get expected answers in most cases.'''"
   ]
  },
  {
   "cell_type": "code",
   "execution_count": 32,
   "id": "079ff8bd",
   "metadata": {},
   "outputs": [],
   "source": [
    "#3"
   ]
  },
  {
   "cell_type": "code",
   "execution_count": 33,
   "id": "1d082d2e",
   "metadata": {},
   "outputs": [],
   "source": [
    "#I find the ChatBot to be a very useful tool for understanding code, \n",
    "#especially when dealing with syntax errors, logic analysis or provide code directly. \n",
    "#It provides feedback and guides me toward solutions without the need for web searches.\n",
    "#The ChatBot can always save my time and is also effective in explaining complex concepts and offering suggestions about code."
   ]
  },
  {
   "cell_type": "code",
   "execution_count": 34,
   "id": "8081c30e",
   "metadata": {},
   "outputs": [
    {
     "data": {
      "text/plain": [
       "'________________________________________________________________________'"
      ]
     },
     "execution_count": 34,
     "metadata": {},
     "output_type": "execute_result"
    }
   ],
   "source": [
    "'________________________________________________________________________'"
   ]
  },
  {
   "cell_type": "code",
   "execution_count": 35,
   "id": "098cb72c",
   "metadata": {},
   "outputs": [],
   "source": [
    "#Q7"
   ]
  },
  {
   "cell_type": "code",
   "execution_count": null,
   "id": "6adce096",
   "metadata": {},
   "outputs": [],
   "source": [
    "'''\n",
    "In conclusion, I now see AI tools not just as basic helpers, but as useful learning partners. \n",
    "They don't just solve problems, but also help teach and improve learning in a fun, interactive way. \n",
    "This change has helped me learn better in coding and statistics skills, \n",
    "and I feel more confident in handling both theory and practice\n",
    "'''"
   ]
  },
  {
   "cell_type": "code",
   "execution_count": null,
   "id": "3a738681",
   "metadata": {},
   "outputs": [],
   "source": [
    "'________________________________________________________________________'"
   ]
  },
  {
   "cell_type": "code",
   "execution_count": null,
   "id": "56352155",
   "metadata": {},
   "outputs": [],
   "source": [
    "#Q8"
   ]
  },
  {
   "cell_type": "code",
   "execution_count": null,
   "id": "a3065deb",
   "metadata": {},
   "outputs": [],
   "source": [
    "#1."
   ]
  },
  {
   "cell_type": "code",
   "execution_count": null,
   "id": "fa0fad9a",
   "metadata": {},
   "outputs": [],
   "source": [
    "'''In the modern world, several skills are becoming increasingly vital for career success, particularly within the data science industry. These include learning and adaptability, communication, coding, and statistics and data analysis. Here's why each of these skills is highly relevant today:\n",
    "\n",
    "1. Learning and Adaptability\n",
    "Importance in the Modern World: The rapid pace of technological advancement means that new tools, methodologies, and systems are constantly emerging. Being adaptable and having a continuous learning mindset enables professionals to keep pace with industry changes and remain competitive.\n",
    "Relevance to Career Opportunities: In the data science industry, learning new programming languages, algorithms, and machine learning models is essential. The ability to quickly adapt to innovations or new datasets ensures a data scientist can stay at the forefront of their field.\n",
    "2. Communication\n",
    "Importance in the Modern World: Data scientists do not work in isolation. They often need to communicate findings to non-technical stakeholders, such as business executives or clients. Clear and effective communication ensures that insights derived from data can influence decision-making.\n",
    "Relevance to Career Opportunities: Data scientists must explain complex technical results in simple terms. Effective communication bridges the gap between technical expertise and business needs, making this skill a critical component of career success in any role that involves data.\n",
    "3. Coding\n",
    "Importance in the Modern World: Coding has become a fundamental skill across many industries, particularly in data science, where professionals must manipulate data, build models, and automate processes. The ability to code allows for efficiency and scalability in analyzing large datasets.\n",
    "Relevance to Career Opportunities: Coding in languages like Python, R, and SQL is essential for data manipulation, statistical analysis, and machine learning. Data scientists with strong coding skills are in high demand, as they can solve real-world problems using data-driven approaches.\n",
    "4. Statistics and Data Analysis\n",
    "Importance in the Modern World: In an era where data-driven decisions dominate, the ability to analyze and interpret data accurately is invaluable. Understanding statistics ensures that the data is not only analyzed correctly but also presented in a meaningful way.\n",
    "Relevance to Career Opportunities: Statistics and data analysis form the backbone of the data science profession. Whether it's identifying trends, making predictions, or testing hypotheses, these skills are central to a data scientist's role. As data continues to be a critical asset for businesses, those proficient in statistical analysis will continue to find significant opportunities.\n",
    "Conclusion:\n",
    "In the data science industry, mastering skills such as adaptability, communication, coding, and statistics and data analysis is crucial for long-term success. The demand for professionals who can harness the power of data to drive insights and business decisions continues to grow across sectors, making these skills highly valuable for modern careers.'''"
   ]
  },
  {
   "cell_type": "code",
   "execution_count": null,
   "id": "63c07a3c",
   "metadata": {},
   "outputs": [],
   "source": [
    "#2"
   ]
  },
  {
   "cell_type": "code",
   "execution_count": null,
   "id": "46be175a",
   "metadata": {},
   "outputs": [],
   "source": [
    "#View in session below"
   ]
  },
  {
   "cell_type": "code",
   "execution_count": null,
   "id": "14a65a44",
   "metadata": {},
   "outputs": [],
   "source": [
    "#3"
   ]
  },
  {
   "cell_type": "code",
   "execution_count": null,
   "id": "3a3a68fc",
   "metadata": {},
   "outputs": [],
   "source": [
    "#https://chatgpt.com/share/66ecbe04-50d8-8009-9842-074e13930f5b"
   ]
  },
  {
   "cell_type": "code",
   "execution_count": null,
   "id": "b147fee6",
   "metadata": {},
   "outputs": [],
   "source": [
    "'''In this session, we discussed the key skills required for a career as a statistician, \n",
    "particularly focusing on the relevance of learning and adaptability, communication, coding, and data analysis. \n",
    "You also asked whether it's possible to become a statistician or data scientist without coding or data analysis, \n",
    "and I explained that while it's challenging, there are roles related to data science that require fewer technical skills.\n",
    "Finally, you expressed your interest in becoming a statistician, \n",
    "and I provided a breakdown of the most useful skills for this field, highlighting statistical knowledge, \n",
    "data manipulation, coding, data visualization, communication, problem-solving, and domain expertise.'''"
   ]
  },
  {
   "cell_type": "code",
   "execution_count": null,
   "id": "59da1cde",
   "metadata": {},
   "outputs": [],
   "source": [
    "#Q9"
   ]
  },
  {
   "cell_type": "code",
   "execution_count": null,
   "id": "8c94dcde",
   "metadata": {},
   "outputs": [],
   "source": [
    "#I have reviewed the course wiki-textbook yet."
   ]
  }
 ],
 "metadata": {
  "kernelspec": {
   "display_name": "Python 3 (ipykernel)",
   "language": "python",
   "name": "python3"
  },
  "language_info": {
   "codemirror_mode": {
    "name": "ipython",
    "version": 3
   },
   "file_extension": ".py",
   "mimetype": "text/x-python",
   "name": "python",
   "nbconvert_exporter": "python",
   "pygments_lexer": "ipython3",
   "version": "3.11.6"
  }
 },
 "nbformat": 4,
 "nbformat_minor": 5
}
